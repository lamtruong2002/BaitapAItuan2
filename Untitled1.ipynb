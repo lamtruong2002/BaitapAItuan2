{
  "nbformat": 4,
  "nbformat_minor": 0,
  "metadata": {
    "colab": {
      "provenance": [],
      "authorship_tag": "ABX9TyPcNQqYPmBBGPqZVR0mLvON",
      "include_colab_link": true
    },
    "kernelspec": {
      "name": "python3",
      "display_name": "Python 3"
    },
    "language_info": {
      "name": "python"
    }
  },
  "cells": [
    {
      "cell_type": "markdown",
      "metadata": {
        "id": "view-in-github",
        "colab_type": "text"
      },
      "source": [
        "<a href=\"https://colab.research.google.com/github/lamtruong2002/BaitapAItuan2/blob/main/Untitled1.ipynb\" target=\"_parent\"><img src=\"https://colab.research.google.com/assets/colab-badge.svg\" alt=\"Open In Colab\"/></a>"
      ]
    },
    {
      "cell_type": "code",
      "execution_count": 1,
      "metadata": {
        "colab": {
          "base_uri": "https://localhost:8080/"
        },
        "id": "FVEjVtu_503i",
        "outputId": "54ea32ca-cf70-432c-a441-1e5b6dbc56ca"
      },
      "outputs": [
        {
          "output_type": "execute_result",
          "data": {
            "text/plain": [
              "Year            78\n",
              "City            78\n",
              "Sport           78\n",
              "Discipline      78\n",
              "NOC             78\n",
              "Event           78\n",
              "Event gender    78\n",
              "Medal           78\n",
              "dtype: int64"
            ]
          },
          "metadata": {},
          "execution_count": 1
        }
      ],
      "source": [
        "import pandas as pd\n",
        "url='http://winterolympicsmedals.com/medals.csv'\n",
        "dataframe=pd.read_csv(url)\n",
        "#Tìm số lượng huy chương của một nước\n",
        "#Tìm số huy chương vàng theo môn thi cá nhân của một nước\n",
        "dataframe.head(100)\n",
        "dataframe[(dataframe['NOC']=='USA')].count()\n",
        "dataframe[(dataframe['NOC']=='USA')&(dataframe['Medal']=='Gold')].count()"
      ]
    }
  ]
}